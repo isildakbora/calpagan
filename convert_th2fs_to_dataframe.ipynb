{
 "cells": [
  {
   "cell_type": "code",
   "execution_count": 1,
   "metadata": {},
   "outputs": [
    {
     "name": "stdout",
     "output_type": "stream",
     "text": [
      "Welcome to JupyROOT 6.19/01\n"
     ]
    }
   ],
   "source": [
    "import ROOT\n",
    "import numpy as np\n",
    "import pandas as pd\n",
    "%jsroot on"
   ]
  },
  {
   "cell_type": "code",
   "execution_count": 2,
   "metadata": {},
   "outputs": [],
   "source": [
    "def convert_th2fs_to_dataframe(file_name, dir_name):\n",
    "    \n",
    "    columns=['name', 'image']\n",
    "    df  = pd.DataFrame(columns=columns)\n",
    "    file = ROOT.TFile(file_name)\n",
    "    file.cd(dir_name)\n",
    "    total_energy = []\n",
    "    \n",
    "    for key in ROOT.gDirectory.GetListOfKeys():\n",
    "        image = []\n",
    "        if key.GetName() != \"Info\":\n",
    "            calo_image_name = key.GetName()\n",
    "            calo_image      = file.FindObjectAny(calo_image_name)\n",
    "            calo_image.Scale(0.001)\n",
    "            #print(calo_image_name)\n",
    "            for i in range(0, calo_image.GetNbinsX()):\n",
    "                row   = []\n",
    "                for j in range(0, calo_image.GetNbinsY()):\n",
    "                    pix = float(calo_image.GetBinContent(i+1,j+1))\n",
    "                    row.append(pix)\n",
    "                image.append(row)\n",
    "            #image = np.array(image)\n",
    "            #print(image)\n",
    "            sum = 0\n",
    "            for row in image:\n",
    "                sum += np.sum(row)\n",
    "            \n",
    "            if(sum > 100):\n",
    "                df2 = pd.DataFrame([[calo_image_name, image]], columns=columns)\n",
    "                df = df.append(df2, ignore_index=True)\n",
    "    return df"
   ]
  },
  {
   "cell_type": "code",
   "execution_count": 3,
   "metadata": {
    "scrolled": true
   },
   "outputs": [],
   "source": [
    "data = convert_th2fs_to_dataframe(\"wjets_merged.root\", \"DQMData\")"
   ]
  },
  {
   "cell_type": "code",
   "execution_count": 4,
   "metadata": {},
   "outputs": [
    {
     "name": "stderr",
     "output_type": "stream",
     "text": [
      "/Library/Frameworks/Python.framework/Versions/3.7/lib/python3.7/site-packages/pandas/core/generic.py:2377: PerformanceWarning: \n",
      "your performance may suffer as PyTables will pickle object types that it cannot\n",
      "map directly to c-types [inferred_type->mixed,key->block0_values] [items->['name', 'image']]\n",
      "\n",
      "  return pytables.to_hdf(path_or_buf, key, self, **kwargs)\n"
     ]
    }
   ],
   "source": [
    "data.to_hdf(\"calo_images.h5\", key=\"data\", mode=\"w\")"
   ]
  }
 ],
 "metadata": {
  "kernelspec": {
   "display_name": "Python 3",
   "language": "python",
   "name": "python3"
  },
  "language_info": {
   "codemirror_mode": {
    "name": "ipython",
    "version": 3
   },
   "file_extension": ".py",
   "mimetype": "text/x-python",
   "name": "python",
   "nbconvert_exporter": "python",
   "pygments_lexer": "ipython3",
   "version": "3.7.3"
  }
 },
 "nbformat": 4,
 "nbformat_minor": 2
}

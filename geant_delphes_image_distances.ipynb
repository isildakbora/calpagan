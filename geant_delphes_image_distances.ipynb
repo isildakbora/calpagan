{
 "cells": [
  {
   "cell_type": "code",
   "execution_count": 1,
   "metadata": {},
   "outputs": [
    {
     "name": "stdout",
     "output_type": "stream",
     "text": [
      "Welcome to JupyROOT 6.22/00\n"
     ]
    }
   ],
   "source": [
    "import ROOT\n",
    "import numpy as np\n",
    "import pandas as pd\n",
    "import matplotlib.pyplot as plt\n",
    "%jsroot on"
   ]
  },
  {
   "cell_type": "code",
   "execution_count": 2,
   "metadata": {},
   "outputs": [],
   "source": [
    "def convert_th2fs_to_dataframe(file_name, dir_name):\n",
    "    \n",
    "    columns=['name', 'image']\n",
    "    df  = pd.DataFrame(columns=columns)\n",
    "    file = ROOT.TFile(file_name)\n",
    "    file.cd(dir_name)\n",
    "    total_energy = []\n",
    "    \n",
    "    for key in ROOT.gDirectory.GetListOfKeys():\n",
    "        image = []\n",
    "        if key.GetName() != \"Info\":\n",
    "            calo_image_name = key.GetName()\n",
    "            calo_image      = file.FindObjectAny(calo_image_name)\n",
    "            #calo_image.Scale(1)\n",
    "            #print(calo_image_name)\n",
    "            for i in range(0, calo_image.GetNbinsX()):\n",
    "                row   = []\n",
    "                for j in range(0, calo_image.GetNbinsY()):\n",
    "                    pix = float(calo_image.GetBinContent(i+1,j+1))\n",
    "                    row.append(pix)\n",
    "                image.append(row)\n",
    "            #image = np.array(image)\n",
    "            #print(image)\n",
    "            sum = 0\n",
    "            for row in image:\n",
    "                sum += np.sum(row)\n",
    "            \n",
    "            if(sum > 0):\n",
    "                df2 = pd.DataFrame([[calo_image_name, image]], columns=columns)\n",
    "                df = df.append(df2, ignore_index=True)\n",
    "    return df"
   ]
  },
  {
   "cell_type": "code",
   "execution_count": 3,
   "metadata": {
    "scrolled": true
   },
   "outputs": [],
   "source": [
    "data_geant = convert_th2fs_to_dataframe(\"./calo_images_geant4.root\", \"DQMData\")\n",
    "data_delphes = convert_th2fs_to_dataframe(\"./calo_images_delphes.root\", \"\")"
   ]
  },
  {
   "cell_type": "code",
   "execution_count": 4,
   "metadata": {},
   "outputs": [
    {
     "data": {
      "text/html": [
       "<div>\n",
       "<style scoped>\n",
       "    .dataframe tbody tr th:only-of-type {\n",
       "        vertical-align: middle;\n",
       "    }\n",
       "\n",
       "    .dataframe tbody tr th {\n",
       "        vertical-align: top;\n",
       "    }\n",
       "\n",
       "    .dataframe thead th {\n",
       "        text-align: right;\n",
       "    }\n",
       "</style>\n",
       "<table border=\"1\" class=\"dataframe\">\n",
       "  <thead>\n",
       "    <tr style=\"text-align: right;\">\n",
       "      <th></th>\n",
       "      <th>name</th>\n",
       "      <th>image</th>\n",
       "    </tr>\n",
       "  </thead>\n",
       "  <tbody>\n",
       "    <tr>\n",
       "      <th>0</th>\n",
       "      <td>calo_image_1</td>\n",
       "      <td>[[0.0, 0.0, 0.0, 0.0, 0.0, 0.0, 0.0, 0.0, 0.0,...</td>\n",
       "    </tr>\n",
       "    <tr>\n",
       "      <th>1</th>\n",
       "      <td>calo_image_10</td>\n",
       "      <td>[[0.0, 0.0, 0.0, 0.0, 0.0, 0.0, 0.0, 0.0, 0.0,...</td>\n",
       "    </tr>\n",
       "    <tr>\n",
       "      <th>2</th>\n",
       "      <td>calo_image_100</td>\n",
       "      <td>[[0.0, 0.0, 0.0, 0.0, 0.0, 0.0, 0.0, 0.0, 0.0,...</td>\n",
       "    </tr>\n",
       "    <tr>\n",
       "      <th>3</th>\n",
       "      <td>calo_image_1000</td>\n",
       "      <td>[[0.0, 0.0, 0.0, 0.0, 0.0, 0.0, 0.0, 0.0, 0.0,...</td>\n",
       "    </tr>\n",
       "    <tr>\n",
       "      <th>4</th>\n",
       "      <td>calo_image_1001</td>\n",
       "      <td>[[0.0, 0.0, 0.0, 0.0, 0.0, 0.0, 0.0, 0.0, 0.0,...</td>\n",
       "    </tr>\n",
       "  </tbody>\n",
       "</table>\n",
       "</div>"
      ],
      "text/plain": [
       "              name                                              image\n",
       "0     calo_image_1  [[0.0, 0.0, 0.0, 0.0, 0.0, 0.0, 0.0, 0.0, 0.0,...\n",
       "1    calo_image_10  [[0.0, 0.0, 0.0, 0.0, 0.0, 0.0, 0.0, 0.0, 0.0,...\n",
       "2   calo_image_100  [[0.0, 0.0, 0.0, 0.0, 0.0, 0.0, 0.0, 0.0, 0.0,...\n",
       "3  calo_image_1000  [[0.0, 0.0, 0.0, 0.0, 0.0, 0.0, 0.0, 0.0, 0.0,...\n",
       "4  calo_image_1001  [[0.0, 0.0, 0.0, 0.0, 0.0, 0.0, 0.0, 0.0, 0.0,..."
      ]
     },
     "execution_count": 4,
     "metadata": {},
     "output_type": "execute_result"
    }
   ],
   "source": [
    "data_geant.head()"
   ]
  },
  {
   "cell_type": "code",
   "execution_count": 5,
   "metadata": {},
   "outputs": [],
   "source": [
    "geant_labels = []\n",
    "geant_images = []\n",
    "geant4_names = data_geant[\"name\"]\n",
    "geant4_images = data_geant[\"image\"]\n",
    "for i in range(len(data_geant)):\n",
    "    geant_labels.append(geant4_names[i])\n",
    "    geant_images.append(geant4_images[i])\n",
    "    "
   ]
  },
  {
   "cell_type": "code",
   "execution_count": 6,
   "metadata": {},
   "outputs": [],
   "source": [
    "delphes_labels = []\n",
    "delphes_images = []\n",
    "names = data_delphes[\"name\"]\n",
    "images = data_delphes[\"image\"]\n",
    "for i in range(len(data_geant)):\n",
    "    delphes_labels.append(names[i])\n",
    "    delphes_images.append(images[i])"
   ]
  },
  {
   "cell_type": "code",
   "execution_count": 7,
   "metadata": {},
   "outputs": [
    {
     "data": {
      "text/plain": [
       "1562"
      ]
     },
     "execution_count": 7,
     "metadata": {},
     "output_type": "execute_result"
    }
   ],
   "source": [
    "len(geant_labels)"
   ]
  },
  {
   "cell_type": "code",
   "execution_count": 8,
   "metadata": {},
   "outputs": [
    {
     "data": {
      "text/plain": [
       "1562"
      ]
     },
     "execution_count": 8,
     "metadata": {},
     "output_type": "execute_result"
    }
   ],
   "source": [
    "len(delphes_labels)"
   ]
  },
  {
   "cell_type": "code",
   "execution_count": 9,
   "metadata": {},
   "outputs": [
    {
     "data": {
      "text/plain": [
       "(1562, 57, 72)"
      ]
     },
     "execution_count": 9,
     "metadata": {},
     "output_type": "execute_result"
    }
   ],
   "source": [
    "np.array(geant_images).shape"
   ]
  },
  {
   "cell_type": "code",
   "execution_count": 24,
   "metadata": {},
   "outputs": [],
   "source": [
    "\n",
    "geant_images_orig = np.array(geant_images)\n",
    "delphes_images_orig = np.array(delphes_images)\n",
    "\n",
    "geant_dict = {}\n",
    "for label, image in zip(geant_labels, geant_images):\n",
    "    geant_dict[label] = np.array(image)\n",
    "\n",
    "delphes_dict = {}\n",
    "for label, image in zip(delphes_labels, delphes_images):\n",
    "    delphes_dict[label] = np.array(image)\n",
    "    \n",
    "m = geant_images_orig.shape[0] # number of examples\n",
    "\n",
    "geant_images = geant_images_orig.reshape(m, -1).T \n",
    "delphes_images = delphes_images_orig.reshape(m, -1).T"
   ]
  },
  {
   "cell_type": "code",
   "execution_count": 25,
   "metadata": {},
   "outputs": [],
   "source": [
    "m = len(geant_labels)\n",
    "\n",
    "ordered_geant_images = []\n",
    "ordered_delphes_images = []\n",
    "\n",
    "for i in range(0,m):\n",
    "    my_str = \"calo_image_\"\n",
    "    ordered_geant_images.append(geant_dict[my_str + str(i+1)])\n",
    "    ordered_delphes_images.append(delphes_dict[my_str + str(i)])"
   ]
  },
  {
   "cell_type": "code",
   "execution_count": 26,
   "metadata": {},
   "outputs": [],
   "source": [
    "#u = np.sum(np.array(ordered_delphes_images), axis=(1,2))\n",
    "#v = np.sum(np.array(ordered_geant_images), axis=(1,2))\n"
   ]
  },
  {
   "cell_type": "code",
   "execution_count": 27,
   "metadata": {},
   "outputs": [
    {
     "data": {
      "image/png": "[encoded data removed]",
      "text/plain": [
       "<Figure size 432x288 with 1 Axes>"
      ]
     },
     "metadata": {
      "needs_background": "light"
     },
     "output_type": "display_data"
    }
   ],
   "source": [
    "## Ordered image distances\n",
    "m = len(geant_labels)\n",
    "\n",
    "distances = []\n",
    "for i in range(0,m):\n",
    "    n = np.random.choice(list(range(0,m)))\n",
    "    my_str = \"calo_image_\"\n",
    "    geant = geant_dict[my_str + str(i+1)]\n",
    "    delphes = delphes_dict[my_str + str(i)]\n",
    "    distance = np.sum((geant/np.max(geant) - delphes/np.max(delphes))**2)\n",
    "    #print(distance)\n",
    "    distances.append(distance)\n",
    "A = np.array(distances)\n",
    "_ = plt.hist(A, bins = np.arange(1,26,1))"
   ]
  },
  {
   "cell_type": "code",
   "execution_count": 42,
   "metadata": {},
   "outputs": [
    {
     "data": {
      "image/png": "[encoded data removed]",
      "text/plain": [
       "<Figure size 432x288 with 1 Axes>"
      ]
     },
     "metadata": {
      "needs_background": "light"
     },
     "output_type": "display_data"
    }
   ],
   "source": [
    "## Random image distances\n",
    "d = delphes_images.T\n",
    "g = geant_images.T\n",
    "\n",
    "#seed(15)\n",
    "\n",
    "np.random.shuffle(d)\n",
    "np.random.shuffle(g)\n",
    "\n",
    "d_max = np.max(d, axis=1, keepdims=True)\n",
    "g_max = np.max(g, axis=1, keepdims=True)\n",
    "\n",
    "B = np.sum((d/d_max - g/g_max)**2, axis = 1)\n",
    "_ = plt.hist(B, bins = np.arange(1,26,1))"
   ]
  },
  {
   "cell_type": "code",
   "execution_count": 36,
   "metadata": {},
   "outputs": [
    {
     "data": {
      "text/plain": [
       "'\\n# normalization\\n\\nmu_g = np.sum(geant_images, axis = 1, keepdims=True)/m\\ngeant_images = geant_images - mu_g\\nvar_g = 1/m*np.sum(geant_images**2, axis=1, keepdims=1)\\ngeant_images = geant_images/((var_g+1e-6)**0.5)\\n\\nmu_d = np.sum(delphes_images, axis = 1, keepdims=True)/m\\ndelphes_images = delphes_images - mu_d\\nvar_d = 1/m*np.sum(delphes_images**2, axis=1, keepdims=1)\\ndelphes_images = delphes_images/((var_d+1e-6)**0.5)\\n'"
      ]
     },
     "execution_count": 36,
     "metadata": {},
     "output_type": "execute_result"
    }
   ],
   "source": [
    "\"\"\"\n",
    "# normalization\n",
    "\n",
    "mu_g = np.sum(geant_images, axis = 1, keepdims=True)/m\n",
    "geant_images = geant_images - mu_g\n",
    "var_g = 1/m*np.sum(geant_images**2, axis=1, keepdims=1)\n",
    "geant_images = geant_images/((var_g+1e-6)**0.5)\n",
    "\n",
    "mu_d = np.sum(delphes_images, axis = 1, keepdims=True)/m\n",
    "delphes_images = delphes_images - mu_d\n",
    "var_d = 1/m*np.sum(delphes_images**2, axis=1, keepdims=1)\n",
    "delphes_images = delphes_images/((var_d+1e-6)**0.5)\n",
    "\"\"\"\n"
   ]
  },
  {
   "cell_type": "code",
   "execution_count": 51,
   "metadata": {},
   "outputs": [],
   "source": [
    "#min_energy, max_energy = 1, 5\n",
    "#bins = 2\n",
    "#hist_info = {\"bins\": bins, \"range\": (min_energy, max_energy)}\n",
    "\n",
    "def histogram_features(geant_image, delphes_image, hist_info):\n",
    "    bins = hist_info[\"bins\"]\n",
    "    range_ = hist_info[\"range\"]\n",
    "    g_hist, _ = np.histogram(geant_image, bins, range = range_, density=True)\n",
    "    d_hist, _ = np.histogram(delphes_image, bins, range = range_, density=True)\n",
    "    return g_hist, d_hist\n",
    "\n",
    "\n",
    "def jeffery_distance(g_hist, d_hist):\n",
    "    m = (g_hist + d_hist)/2\n",
    "    eps = 1e-10\n",
    "    a = g_hist*np.log((g_hist+eps)/(m+eps))\n",
    "    b = d_hist*np.log((d_hist+eps)/(m+eps))\n",
    "    return np.sum(a+b)\n",
    "\n",
    "\n",
    "def find_distances(geant_image, delphes_images, hist_info, method=\"mse\"):\n",
    "    if method == \"mse\": # mean squared error\n",
    "        g_max = np.max(geant_image)\n",
    "        d_max = np.max(delphes_images, axis=0, keepdims=True)\n",
    "        distances = np.sum((geant_image/g_max - delphes_images/d_max)**2, axis=0, \n",
    "                           keepdims=False)/geant_image.shape[0]\n",
    "        return list(distances)\n",
    "    \n",
    "    if method == \"jd\": #jeffery distance\n",
    "        m = delphes_images.shape[1]\n",
    "        distances = []\n",
    "        for i in range(0,m):\n",
    "            delphes_image = delphes_images[:,i]\n",
    "            g_hist, d_hist = histogram_features(geant_image, delphes_image, hist_info)\n",
    "            distances.append(jeffery_distance(g_hist, d_hist))\n",
    "        return distances\n",
    "\n",
    "        \n",
    "def n_closest_images(delphes_labels, distances, n):\n",
    "    distances_and_delphes_labels = list(zip(distances,delphes_labels))\n",
    "    distances_and_delphes_labels.sort()\n",
    "    return distances_and_delphes_labels[0:n]\n",
    "\n",
    "\n",
    "def match_geant_to_delphes(geant_images, delphes_images, geant_labels, delphes_labels,\n",
    "                           n, hist_info, method):\n",
    "    match_images = {}\n",
    "    m = len(geant_labels)\n",
    "    assert(m == geant_images.shape[1])\n",
    "    \n",
    "    for i in range(0, m):\n",
    "        geant_image = geant_images[:,i].reshape(-1, 1)\n",
    "        distances = find_distances(geant_image, delphes_images, hist_info, method)\n",
    "        n_distances_and_delphes_labels = n_closest_images(delphes_labels, distances, n)\n",
    "        \n",
    "        geant_label = geant_labels[i]\n",
    "        match_images[geant_label] = n_distances_and_delphes_labels\n",
    "        if i%100 == 0:\n",
    "            print(\"iteration:\", i)\n",
    "            #print(geant_label,match_images[geant_label])\n",
    "    return match_images"
   ]
  },
  {
   "cell_type": "code",
   "execution_count": 61,
   "metadata": {},
   "outputs": [
    {
     "name": "stdout",
     "output_type": "stream",
     "text": [
      "iteration: 0\n",
      "iteration: 100\n",
      "iteration: 200\n",
      "iteration: 300\n",
      "iteration: 400\n",
      "iteration: 500\n",
      "iteration: 600\n",
      "iteration: 700\n",
      "iteration: 800\n",
      "iteration: 900\n",
      "iteration: 1000\n",
      "iteration: 1100\n",
      "iteration: 1200\n",
      "iteration: 1300\n",
      "iteration: 1400\n",
      "iteration: 1500\n"
     ]
    }
   ],
   "source": [
    "min_energy = np.min([np.min(geant_images), np.min(delphes_images)])\n",
    "max_energy = np.max([np.max(geant_images), np.max(delphes_images)])\n",
    "bins = 500\n",
    "hist_info = {\"bins\": bins, \"range\": (min_energy, max_energy)}\n",
    "n=10 #closest images number\n",
    "method = \"mse\"\n",
    "# method = \"jd\" # Vectorization haven't been done. So, takes longer compared to \"mse\"\n",
    "\n",
    "match_images = match_geant_to_delphes(geant_images, delphes_images, \n",
    "                                            geant_labels, delphes_labels, n, hist_info, method)"
   ]
  },
  {
   "cell_type": "code",
   "execution_count": 59,
   "metadata": {},
   "outputs": [
    {
     "data": {
      "text/plain": [
       "[(0.001118276625059011, 'calo_image_688'),\n",
       " (0.0011792467349633583, 'calo_image_50'),\n",
       " (0.001215622046342829, 'calo_image_1399'),\n",
       " (0.001248913964338502, 'calo_image_1484'),\n",
       " (0.0012627255203309332, 'calo_image_191'),\n",
       " (0.0012632707705413767, 'calo_image_638'),\n",
       " (0.001263442808728, 'calo_image_69'),\n",
       " (0.0012742691830019619, 'calo_image_535'),\n",
       " (0.0012745284512623786, 'calo_image_1295'),\n",
       " (0.0012747620297709039, 'calo_image_1487')]"
      ]
     },
     "execution_count": 59,
     "metadata": {},
     "output_type": "execute_result"
    }
   ],
   "source": [
    "match_images[\"calo_image_5\"]"
   ]
  }
 ],
 "metadata": {
  "kernelspec": {
   "display_name": "Python 3",
   "language": "python",
   "name": "python3"
  },
  "language_info": {
   "codemirror_mode": {
    "name": "ipython",
    "version": 3
   },
   "file_extension": ".py",
   "mimetype": "text/x-python",
   "name": "python",
   "nbconvert_exporter": "python",
   "pygments_lexer": "ipython3",
   "version": "3.8.3"
  }
 },
 "nbformat": 4,
 "nbformat_minor": 2
}
